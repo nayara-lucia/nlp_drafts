{
 "cells": [
  {
   "cell_type": "code",
   "execution_count": 52,
   "id": "a3d94e9d-57cd-4407-82b9-4b21974166f4",
   "metadata": {
    "collapsed": true,
    "jupyter": {
     "outputs_hidden": true
    },
    "tags": []
   },
   "outputs": [
    {
     "name": "stdout",
     "output_type": "stream",
     "text": [
      "Collecting translate\n",
      "  Downloading translate-3.6.1-py2.py3-none-any.whl.metadata (7.7 kB)\n",
      "Requirement already satisfied: click in c:\\users\\znaya\\anaconda1\\lib\\site-packages (from translate) (8.1.7)\n",
      "Requirement already satisfied: lxml in c:\\users\\znaya\\anaconda1\\lib\\site-packages (from translate) (4.9.3)\n",
      "Requirement already satisfied: requests in c:\\users\\znaya\\anaconda1\\lib\\site-packages (from translate) (2.31.0)\n",
      "Collecting libretranslatepy==2.1.1 (from translate)\n",
      "  Downloading libretranslatepy-2.1.1-py3-none-any.whl.metadata (233 bytes)\n",
      "Requirement already satisfied: colorama in c:\\users\\znaya\\anaconda1\\lib\\site-packages (from click->translate) (0.4.6)\n",
      "Requirement already satisfied: charset-normalizer<4,>=2 in c:\\users\\znaya\\anaconda1\\lib\\site-packages (from requests->translate) (2.0.4)\n",
      "Requirement already satisfied: idna<4,>=2.5 in c:\\users\\znaya\\anaconda1\\lib\\site-packages (from requests->translate) (3.4)\n",
      "Requirement already satisfied: urllib3<3,>=1.21.1 in c:\\users\\znaya\\anaconda1\\lib\\site-packages (from requests->translate) (1.26.18)\n",
      "Requirement already satisfied: certifi>=2017.4.17 in c:\\users\\znaya\\anaconda1\\lib\\site-packages (from requests->translate) (2024.2.2)\n",
      "Downloading translate-3.6.1-py2.py3-none-any.whl (12 kB)\n",
      "Downloading libretranslatepy-2.1.1-py3-none-any.whl (3.2 kB)\n",
      "Installing collected packages: libretranslatepy, translate\n",
      "Successfully installed libretranslatepy-2.1.1 translate-3.6.1\n"
     ]
    },
    {
     "name": "stderr",
     "output_type": "stream",
     "text": [
      "WARNING: Ignoring invalid distribution - (c:\\users\\znaya\\anaconda1\\lib\\site-packages)\n",
      "WARNING: Ignoring invalid distribution - (c:\\users\\znaya\\anaconda1\\lib\\site-packages)\n"
     ]
    }
   ],
   "source": [
    "#!pip install textblob\n",
    "#!pip install leia-br\n",
    "!pip install translate"
   ]
  },
  {
   "cell_type": "code",
   "execution_count": 53,
   "id": "6a93a511-2c94-4738-9d4b-01000bee7118",
   "metadata": {},
   "outputs": [
    {
     "name": "stderr",
     "output_type": "stream",
     "text": [
      "[nltk_data] Downloading package vader_lexicon to\n",
      "[nltk_data]     C:\\Users\\znaya\\AppData\\Roaming\\nltk_data...\n",
      "[nltk_data]   Package vader_lexicon is already up-to-date!\n"
     ]
    }
   ],
   "source": [
    "import nltk\n",
    "nltk.download(\"vader_lexicon\")\n",
    "\n",
    "from nltk.sentiment.vader import SentimentIntensityAnalyzer\n",
    "from textblob import TextBlob\n",
    "from LeIA import SentimentIntensityAnalyzer\n",
    "from translate import Translator"
   ]
  },
  {
   "cell_type": "code",
   "execution_count": 30,
   "id": "6671c173-08ec-4da9-a1c3-7565a9b43679",
   "metadata": {},
   "outputs": [],
   "source": [
    "vader = SentimentIntensityAnalyzer()"
   ]
  },
  {
   "cell_type": "code",
   "execution_count": 54,
   "id": "b733a0cf-78ff-4f3c-8548-9776a86d5b98",
   "metadata": {},
   "outputs": [
    {
     "name": "stdout",
     "output_type": "stream",
     "text": [
      "I hate this movie: neg {0.649}, pos {0.0}, neu {0.351}\n",
      "I HATE this movie!!!: neg {0.726}, pos {0.0}, neu {0.274}\n",
      "I do not care about this movie: neg {0.345}, pos {0.0}, neu {0.655}\n",
      "I LOVE this movie: neg {0.0}, pos {0.712}, neu {0.288}\n",
      "i like this movie: neg {0.0}, pos {0.556}, neu {0.444}\n",
      "This plot is very old: neg {0.0}, pos {0.0}, neu {1.0}\n",
      ":): neg {0.0}, pos {1.0}, neu {0.0}\n",
      ":(: neg {1.0}, pos {0.0}, neu {0.0}\n"
     ]
    }
   ],
   "source": [
    "sentences = ['I hate this movie','I HATE this movie!!!','I do not care about this movie','I LOVE this movie','i like this movie','This plot is very old',':)',':(']\n",
    "\n",
    "for i in sentences:\n",
    "    analysis = vader.polarity_scores(i)\n",
    "    print('{}: neg {}, pos {}, neu {}'.format(i,{analysis['neg']},{analysis['pos']},{analysis['neu']}))"
   ]
  },
  {
   "cell_type": "code",
   "execution_count": 32,
   "id": "9057b297-94c3-4024-ae59-65b2cf77d191",
   "metadata": {},
   "outputs": [
    {
     "name": "stdout",
     "output_type": "stream",
     "text": [
      "Sentiment(polarity=0.625, subjectivity=0.6)\n"
     ]
    }
   ],
   "source": [
    "test = TextBlob(\"I love NY!\")\n",
    "print(test.sentiment)"
   ]
  },
  {
   "cell_type": "code",
   "execution_count": 44,
   "id": "83ef8374-e5d7-41cb-9222-57e15e494d79",
   "metadata": {},
   "outputs": [],
   "source": [
    "portuguese = SentimentIntensityAnalyzer()"
   ]
  },
  {
   "cell_type": "code",
   "execution_count": 49,
   "id": "082eba8c-4deb-4f2b-b261-a3099b681ae5",
   "metadata": {},
   "outputs": [
    {
     "name": "stdout",
     "output_type": "stream",
     "text": [
      "eu amo jogar tênis: neg {0.0}, pos {0.0}, neu {1.0}\n",
      "isso aqui ta uma merda: neg {0.474}, pos {0.0}, neu {0.526}\n",
      "odeio isso: neg {0.762}, pos {0.0}, neu {0.238}\n",
      "Eu amei: neg {0.0}, pos {0.0}, neu {1.0}\n"
     ]
    }
   ],
   "source": [
    "sentences = ['eu amo jogar tênis','isso aqui ta uma merda','odeio isso','Eu amei']\n",
    "\n",
    "for i in sentences:\n",
    "    analysis = portuguese.polarity_scores(i)\n",
    "    print('{}: neg {}, pos {}, neu {}'.format(i,{analysis['neg']},{analysis['pos']},{analysis['neu']}))"
   ]
  },
  {
   "cell_type": "code",
   "execution_count": 55,
   "id": "3a87a89d-42c9-476d-aed1-21b7ed5d1fa2",
   "metadata": {},
   "outputs": [
    {
     "name": "stdout",
     "output_type": "stream",
     "text": [
      "this here sucks\n",
      "{'neg': 0.556, 'neu': 0.444, 'pos': 0.0, 'compound': -0.3612}\n"
     ]
    }
   ],
   "source": [
    "trans = Translator(from_lang=\"pt\",to_lang=\"en\")\n",
    "trad = trans.translate(\"isso aqui ta uma merda\")\n",
    "print(trad)\n",
    "print(vader.polarity_scores(trad))"
   ]
  },
  {
   "cell_type": "code",
   "execution_count": null,
   "id": "f005f61c-e8f7-46a6-9d43-362e54ff5e12",
   "metadata": {},
   "outputs": [],
   "source": []
  }
 ],
 "metadata": {
  "kernelspec": {
   "display_name": "Python 3 (ipykernel)",
   "language": "python",
   "name": "python3"
  },
  "language_info": {
   "codemirror_mode": {
    "name": "ipython",
    "version": 3
   },
   "file_extension": ".py",
   "mimetype": "text/x-python",
   "name": "python",
   "nbconvert_exporter": "python",
   "pygments_lexer": "ipython3",
   "version": "3.9.18"
  }
 },
 "nbformat": 4,
 "nbformat_minor": 5
}
