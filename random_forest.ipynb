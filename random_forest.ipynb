{
 "cells": [
  {
   "cell_type": "code",
   "execution_count": 1,
   "id": "c02088ee-7473-4a48-aa37-bc8121752fb2",
   "metadata": {},
   "outputs": [],
   "source": [
    "import pandas as pd\n",
    "from sklearn.model_selection import train_test_split\n",
    "from sklearn import metrics\n",
    "from sklearn.metrics import confusion_matrix, accuracy_score\n",
    "from sklearn.ensemble import RandomForestClassifier\n",
    "from sklearn.feature_extraction.text import TfidfVectorizer"
   ]
  },
  {
   "cell_type": "code",
   "execution_count": 23,
   "id": "e3dda781-5985-4bf1-b8a1-daba516b710b",
   "metadata": {},
   "outputs": [
    {
     "name": "stdout",
     "output_type": "stream",
     "text": [
      "  Category                                            Message\n",
      "0      ham  Go until jurong point, crazy.. Available only ...\n",
      "1      ham                      Ok lar... Joking wif u oni...\n",
      "2     spam  Free entry in 2 a wkly comp to win FA Cup fina...\n",
      "------------------------------\n",
      "(5572, 2)\n",
      "------------------------------\n",
      "ham     4825\n",
      "spam     747\n",
      "Name: Category, dtype: int64\n",
      "------------------------------\n"
     ]
    }
   ],
   "source": [
    "df = pd.read_csv(\"spam.csv\")\n",
    "print(df.head(3)) ; print(\"-\"*30)\n",
    "print(df.shape) ; print(\"-\"*30)\n",
    "print(df.Category.value_counts()) ; print(\"-\"*30)"
   ]
  },
  {
   "cell_type": "code",
   "execution_count": 24,
   "id": "82e51ad6-cc1d-4c61-86f0-6878c6af127a",
   "metadata": {},
   "outputs": [],
   "source": [
    "y = df.Category\n",
    "X = df.Message"
   ]
  },
  {
   "cell_type": "code",
   "execution_count": 25,
   "id": "3cf8a0f0-78f1-41fb-a90a-d0cce781deb9",
   "metadata": {},
   "outputs": [],
   "source": [
    "vetor = TfidfVectorizer()\n",
    "X = vetor.fit_transform(X)"
   ]
  },
  {
   "cell_type": "code",
   "execution_count": 34,
   "id": "069a877b-14f9-4697-a307-23c33f85ed87",
   "metadata": {},
   "outputs": [
    {
     "name": "stdout",
     "output_type": "stream",
     "text": [
      "(5572, 8709)\n",
      "------------------------------\n",
      "<class 'scipy.sparse._csr.csr_matrix'>\n",
      "------------------------------\n",
      "['00' '000' '000pes' '008704050406' '0089' '0121' '01223585236'\n",
      " '01223585334' '0125698789' '02' '0207' '02072069400' '02073162414'\n",
      " '02085076972' '021' '03' '04' '0430' '05' '050703' '0578' '06' '07'\n",
      " '07008009200' '07046744435' '07090201529' '07090298926' '07099833605'\n",
      " '07123456789' '0721072' '07732584351' '07734396839' '07742676969'\n",
      " '07753741225' '0776xxxxxxx' '07781482378' '07786200117' '077xxx' '078'\n",
      " '07801543489' '07808' '07808247860' '07808726822' '07815296484'\n",
      " '07821230901' '078498' '07880867867' '0789xxxxxxx' '07946746291'\n",
      " '0796xxxxxx' '07973788240' '07xxxxxxxxx' '08' '0800' '08000407165'\n",
      " '08000776320' '08000839402' '08000930705' '08000938767' '08001950382'\n",
      " '08002888812' '08002986030' '08002986906' '08002988890' '08006344447'\n",
      " '0808' '08081263000' '08081560665' '0825' '083' '0844' '08448350055'\n",
      " '08448714184' '0845' '08450542832' '08452810071' '08452810073'\n",
      " '08452810075over18' '0870' '08700435505150p' '08700469649'\n",
      " '08700621170150p' '08701213186' '08701237397' '08701417012'\n",
      " '08701417012150p' '0870141701216' '087016248' '08701752560'\n",
      " '087018728737' '0870241182716' '08702490080' '08702840625' '08704050406'\n",
      " '08704439680' '08704439680ts' '08706091795' '0870737910216yrs'\n",
      " '08707500020' '08707509020']\n"
     ]
    }
   ],
   "source": [
    "print(X.shape) ; print(\"-\"*30)\n",
    "print(type(X)) ; print(\"-\"*30)\n",
    "print(vetor.get_feature_names_out()[0:100])"
   ]
  },
  {
   "cell_type": "code",
   "execution_count": 36,
   "id": "e933be47-dfe4-48bd-86ad-070818645c77",
   "metadata": {},
   "outputs": [],
   "source": [
    "x_train, x_test, y_train, y_test = train_test_split(X,y,test_size=0.3)"
   ]
  },
  {
   "cell_type": "code",
   "execution_count": 38,
   "id": "dcf9c919-41d4-4d30-a299-89d14668243d",
   "metadata": {},
   "outputs": [
    {
     "name": "stdout",
     "output_type": "stream",
     "text": [
      "[[1455    2]\n",
      " [  34  181]]\n",
      "------------------------------\n",
      "0.9784688995215312\n"
     ]
    }
   ],
   "source": [
    "model = RandomForestClassifier(n_estimators=150)\n",
    "\n",
    "model.fit(x_train,y_train)\n",
    "\n",
    "pred = model.predict(x_test)\n",
    "\n",
    "print(confusion_matrix(y_test,pred)) ; print(\"-\"*30)\n",
    "print(accuracy_score(y_test,pred))"
   ]
  },
  {
   "cell_type": "code",
   "execution_count": 39,
   "id": "38ae1b86-dfab-45d1-9c26-9ca22e7aac89",
   "metadata": {},
   "outputs": [
    {
     "name": "stdout",
     "output_type": "stream",
     "text": [
      "              precision    recall  f1-score   support\n",
      "\n",
      "         ham       0.98      1.00      0.99      1457\n",
      "        spam       0.99      0.84      0.91       215\n",
      "\n",
      "    accuracy                           0.98      1672\n",
      "   macro avg       0.98      0.92      0.95      1672\n",
      "weighted avg       0.98      0.98      0.98      1672\n",
      "\n"
     ]
    }
   ],
   "source": [
    "print(metrics.classification_report(y_test,pred))"
   ]
  },
  {
   "cell_type": "code",
   "execution_count": 41,
   "id": "d040cd34-49e8-444c-abab-516230971e9b",
   "metadata": {},
   "outputs": [
    {
     "name": "stdout",
     "output_type": "stream",
     "text": [
      "     00       000  000pes  008704050406  0089  0121  01223585236  01223585334  \\\n",
      "0   0.0  0.000000     0.0           0.0   0.0   0.0          0.0          0.0   \n",
      "1   0.0  0.000000     0.0           0.0   0.0   0.0          0.0          0.0   \n",
      "2   0.0  0.000000     0.0           0.0   0.0   0.0          0.0          0.0   \n",
      "3   0.0  0.000000     0.0           0.0   0.0   0.0          0.0          0.0   \n",
      "4   0.0  0.000000     0.0           0.0   0.0   0.0          0.0          0.0   \n",
      "5   0.0  0.000000     0.0           0.0   0.0   0.0          0.0          0.0   \n",
      "6   0.0  0.000000     0.0           0.0   0.0   0.0          0.0          0.0   \n",
      "7   0.0  0.000000     0.0           0.0   0.0   0.0          0.0          0.0   \n",
      "8   0.0  0.000000     0.0           0.0   0.0   0.0          0.0          0.0   \n",
      "9   0.0  0.000000     0.0           0.0   0.0   0.0          0.0          0.0   \n",
      "10  0.0  0.000000     0.0           0.0   0.0   0.0          0.0          0.0   \n",
      "11  0.0  0.196171     0.0           0.0   0.0   0.0          0.0          0.0   \n",
      "12  0.0  0.210619     0.0           0.0   0.0   0.0          0.0          0.0   \n",
      "13  0.0  0.000000     0.0           0.0   0.0   0.0          0.0          0.0   \n",
      "14  0.0  0.000000     0.0           0.0   0.0   0.0          0.0          0.0   \n",
      "15  0.0  0.000000     0.0           0.0   0.0   0.0          0.0          0.0   \n",
      "16  0.0  0.000000     0.0           0.0   0.0   0.0          0.0          0.0   \n",
      "17  0.0  0.000000     0.0           0.0   0.0   0.0          0.0          0.0   \n",
      "18  0.0  0.000000     0.0           0.0   0.0   0.0          0.0          0.0   \n",
      "19  0.0  0.000000     0.0           0.0   0.0   0.0          0.0          0.0   \n",
      "20  0.0  0.000000     0.0           0.0   0.0   0.0          0.0          0.0   \n",
      "21  0.0  0.000000     0.0           0.0   0.0   0.0          0.0          0.0   \n",
      "22  0.0  0.000000     0.0           0.0   0.0   0.0          0.0          0.0   \n",
      "23  0.0  0.000000     0.0           0.0   0.0   0.0          0.0          0.0   \n",
      "24  0.0  0.000000     0.0           0.0   0.0   0.0          0.0          0.0   \n",
      "\n",
      "    0125698789   02  ...  zhong  zindgi  zoe  zogtorius  zoom  zouk  zyada  \\\n",
      "0          0.0  0.0  ...    0.0     0.0  0.0        0.0   0.0   0.0    0.0   \n",
      "1          0.0  0.0  ...    0.0     0.0  0.0        0.0   0.0   0.0    0.0   \n",
      "2          0.0  0.0  ...    0.0     0.0  0.0        0.0   0.0   0.0    0.0   \n",
      "3          0.0  0.0  ...    0.0     0.0  0.0        0.0   0.0   0.0    0.0   \n",
      "4          0.0  0.0  ...    0.0     0.0  0.0        0.0   0.0   0.0    0.0   \n",
      "5          0.0  0.0  ...    0.0     0.0  0.0        0.0   0.0   0.0    0.0   \n",
      "6          0.0  0.0  ...    0.0     0.0  0.0        0.0   0.0   0.0    0.0   \n",
      "7          0.0  0.0  ...    0.0     0.0  0.0        0.0   0.0   0.0    0.0   \n",
      "8          0.0  0.0  ...    0.0     0.0  0.0        0.0   0.0   0.0    0.0   \n",
      "9          0.0  0.0  ...    0.0     0.0  0.0        0.0   0.0   0.0    0.0   \n",
      "10         0.0  0.0  ...    0.0     0.0  0.0        0.0   0.0   0.0    0.0   \n",
      "11         0.0  0.0  ...    0.0     0.0  0.0        0.0   0.0   0.0    0.0   \n",
      "12         0.0  0.0  ...    0.0     0.0  0.0        0.0   0.0   0.0    0.0   \n",
      "13         0.0  0.0  ...    0.0     0.0  0.0        0.0   0.0   0.0    0.0   \n",
      "14         0.0  0.0  ...    0.0     0.0  0.0        0.0   0.0   0.0    0.0   \n",
      "15         0.0  0.0  ...    0.0     0.0  0.0        0.0   0.0   0.0    0.0   \n",
      "16         0.0  0.0  ...    0.0     0.0  0.0        0.0   0.0   0.0    0.0   \n",
      "17         0.0  0.0  ...    0.0     0.0  0.0        0.0   0.0   0.0    0.0   \n",
      "18         0.0  0.0  ...    0.0     0.0  0.0        0.0   0.0   0.0    0.0   \n",
      "19         0.0  0.0  ...    0.0     0.0  0.0        0.0   0.0   0.0    0.0   \n",
      "20         0.0  0.0  ...    0.0     0.0  0.0        0.0   0.0   0.0    0.0   \n",
      "21         0.0  0.0  ...    0.0     0.0  0.0        0.0   0.0   0.0    0.0   \n",
      "22         0.0  0.0  ...    0.0     0.0  0.0        0.0   0.0   0.0    0.0   \n",
      "23         0.0  0.0  ...    0.0     0.0  0.0        0.0   0.0   0.0    0.0   \n",
      "24         0.0  0.0  ...    0.0     0.0  0.0        0.0   0.0   0.0    0.0   \n",
      "\n",
      "     èn       ú1  〨ud  \n",
      "0   0.0  0.00000  0.0  \n",
      "1   0.0  0.00000  0.0  \n",
      "2   0.0  0.00000  0.0  \n",
      "3   0.0  0.00000  0.0  \n",
      "4   0.0  0.00000  0.0  \n",
      "5   0.0  0.00000  0.0  \n",
      "6   0.0  0.00000  0.0  \n",
      "7   0.0  0.00000  0.0  \n",
      "8   0.0  0.00000  0.0  \n",
      "9   0.0  0.00000  0.0  \n",
      "10  0.0  0.00000  0.0  \n",
      "11  0.0  0.00000  0.0  \n",
      "12  0.0  0.00000  0.0  \n",
      "13  0.0  0.00000  0.0  \n",
      "14  0.0  0.00000  0.0  \n",
      "15  0.0  0.00000  0.0  \n",
      "16  0.0  0.00000  0.0  \n",
      "17  0.0  0.00000  0.0  \n",
      "18  0.0  0.00000  0.0  \n",
      "19  0.0  0.22478  0.0  \n",
      "20  0.0  0.00000  0.0  \n",
      "21  0.0  0.00000  0.0  \n",
      "22  0.0  0.00000  0.0  \n",
      "23  0.0  0.00000  0.0  \n",
      "24  0.0  0.00000  0.0  \n",
      "\n",
      "[25 rows x 8709 columns]\n"
     ]
    }
   ],
   "source": [
    "# Obtendo os nomes das features (termos)\n",
    "feature_names = vetor.get_feature_names_out()\n",
    "\n",
    "# Convertendo a matriz esparsa TF-IDF para um DataFrame do Pandas\n",
    "df_tfidf = pd.DataFrame(X.toarray(), columns=feature_names)\n",
    "\n",
    "# Visualizando os primeiros pesos atribuídos aos termos\n",
    "print(df_tfidf.head(25))"
   ]
  },
  {
   "cell_type": "code",
   "execution_count": null,
   "id": "e4dcc762-f390-448b-93d1-ed09836d51b5",
   "metadata": {},
   "outputs": [],
   "source": []
  }
 ],
 "metadata": {
  "kernelspec": {
   "display_name": "Python 3 (ipykernel)",
   "language": "python",
   "name": "python3"
  },
  "language_info": {
   "codemirror_mode": {
    "name": "ipython",
    "version": 3
   },
   "file_extension": ".py",
   "mimetype": "text/x-python",
   "name": "python",
   "nbconvert_exporter": "python",
   "pygments_lexer": "ipython3",
   "version": "3.9.18"
  }
 },
 "nbformat": 4,
 "nbformat_minor": 5
}
